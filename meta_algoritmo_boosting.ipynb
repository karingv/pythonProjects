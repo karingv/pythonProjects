{
  "cells": [
    {
      "cell_type": "code",
      "execution_count": null,
      "metadata": {
        "id": "oAYWILIE_4T9"
      },
      "outputs": [],
      "source": [
        "%matplotlib inline"
      ]
    },
    {
      "cell_type": "markdown",
      "source": [
        "The Iris Dataset\n",
        "\n",
        "Este conjunto de datos consta de 3 tipos diferentes de longitud de pétalos y sépalos de iris (Setosa, Versicolor y Virginica), almacenados en un numpy.ndarray de 150x4\n",
        "\n",
        "Las filas son las muestras y las columnas son: longitud del sépalo, anchura del sépalo, longitud del pétalo y anchura del pétalo.\n"
      ],
      "metadata": {
        "id": "EnkHyHLNf4zx"
      }
    },
    {
      "cell_type": "code",
      "source": [
        "#---Corroboramos que la carga de datos se implemento correctamente, y llamamos a imprimir por consola algunos datos---\n",
        "from sklearn import datasets\n",
        "iris = datasets.load_iris()\n",
        "#---Datos que pediremos para comprobar---\n",
        "numMuestras, numCaracteristicas= iris.data.shape \n",
        "print(numMuestras)\n",
        "print(numCaracteristicas)\n",
        "print(list(iris.target_names))"
      ],
      "metadata": {
        "colab": {
          "base_uri": "https://localhost:8080/"
        },
        "id": "Sm-5qAVnMrrP",
        "outputId": "11610425-c2de-4763-b73e-611ca5c965ab"
      },
      "execution_count": null,
      "outputs": [
        {
          "output_type": "stream",
          "name": "stdout",
          "text": [
            "150\n",
            "4\n",
            "['setosa', 'versicolor', 'virginica']\n"
          ]
        }
      ]
    },
    {
      "cell_type": "code",
      "source": [
        "from sklearn.model_selection import train_test_split #---Esta línea nos permitirá dividir el dataset en dos bloques, bloques destinados \n",
        "#--------------------------------------------------------al entrenamiento y bloques para la validación del modelo---\n",
        "\n",
        "#creamos las variables que ingresaran posteriomente en la matriz, además de insertamos datos en los parámetros para dividir los bloques, en este caso solo utilizaremos el 20% de la data para la prueba\n",
        "x_entrenamiento, x_prueba, y_entrenamiento, y_prueba = train_test_split(iris.data, iris.target, test_size=0.2, random_state=0)\n",
        "\n",
        "#importamos librería xgboost\n",
        "import xgboost as xgb\n",
        "\n",
        "#crearemos un variable entrenamiento en el cual asignaremos con el método de xgboost los elementos de la matriz\n",
        "entrenamiento= xgb.DMatrix(x_entrenamiento, label=y_entrenamiento)\n",
        "test= xgb.DMatrix(x_prueba, label=y_prueba)\n",
        "\n",
        "#agregaremos los parámetros asignandole valores\n",
        "parametros= {\n",
        "    'max_depth':8,  #---max profundidad de árboles---\n",
        "    'eta':0.3,      #---tasa de aprendizaje predeterminada---\n",
        "    'objetive': 'multi:softmax', #--- función softmax: permitira clasificar con mayor probalibidad de exactitud\n",
        "    'num_class': 3 #---num de clases\n",
        "}\n",
        "epochs=4   #---ciclos de entrenamiento\n",
        "\n",
        "#creamos el modelo con el método train y llenamos los parámetros con las variables que anteriormente hemos definido, esto dará inicio al entrenamiento\n",
        "model= xgb.train(parametros, entrenamiento, epochs)\n",
        "\n",
        "#luego realizaremos una predicción con el modelo ya entrenado\n",
        "prediciones= model.predict(test)\n",
        "print(prediciones)"
      ],
      "metadata": {
        "colab": {
          "base_uri": "https://localhost:8080/"
        },
        "id": "RsBXM9okO2Xu",
        "outputId": "8282a2a7-f3d1-4bbf-82d2-7ed0a9a32e72"
      },
      "execution_count": null,
      "outputs": [
        {
          "output_type": "stream",
          "name": "stdout",
          "text": [
            "[2. 1. 0. 2. 0. 2. 0. 1. 1. 1. 2. 1. 1. 1. 1. 0. 1. 1. 0. 0. 2. 1. 0. 0.\n",
            " 2. 0. 0. 1. 1. 0.]\n"
          ]
        }
      ]
    },
    {
      "cell_type": "code",
      "source": [
        "from sklearn.metrics import accuracy_score #---Esta línea nos permitirá puntuar la precisión de la clasificación que se ha realizado\n",
        "accuracy_score(y_prueba, prediciones) \n",
        "#como resultado obtenemos que la clasificación tiene una precisión del 100%"
      ],
      "metadata": {
        "colab": {
          "base_uri": "https://localhost:8080/"
        },
        "id": "VDPKxysVS1kv",
        "outputId": "7d4161dc-b1ec-4961-cd35-416d4708bc09"
      },
      "execution_count": null,
      "outputs": [
        {
          "output_type": "execute_result",
          "data": {
            "text/plain": [
              "1.0"
            ]
          },
          "metadata": {},
          "execution_count": 15
        }
      ]
    }
  ],
  "metadata": {
    "kernelspec": {
      "display_name": "Python 3",
      "language": "python",
      "name": "python3"
    },
    "language_info": {
      "codemirror_mode": {
        "name": "ipython",
        "version": 3
      },
      "file_extension": ".py",
      "mimetype": "text/x-python",
      "name": "python",
      "nbconvert_exporter": "python",
      "pygments_lexer": "ipython3",
      "version": "3.9.13"
    },
    "colab": {
      "provenance": []
    }
  },
  "nbformat": 4,
  "nbformat_minor": 0
}