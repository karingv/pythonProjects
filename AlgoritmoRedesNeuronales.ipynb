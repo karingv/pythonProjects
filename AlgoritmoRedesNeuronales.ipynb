{
  "nbformat": 4,
  "nbformat_minor": 0,
  "metadata": {
    "colab": {
      "provenance": []
    },
    "kernelspec": {
      "name": "python3",
      "display_name": "Python 3"
    },
    "language_info": {
      "name": "python"
    }
  },
  "cells": [
    {
      "cell_type": "code",
      "execution_count": null,
      "metadata": {
        "colab": {
          "base_uri": "https://localhost:8080/",
          "height": 377
        },
        "id": "Kk-b2B1-SD0w",
        "outputId": "01b27d87-3e56-4a34-bdd7-0e6e8dc8af77"
      },
      "outputs": [
        {
          "output_type": "stream",
          "name": "stdout",
          "text": [
            "Entrenamiento de la red neuronal\n",
            "Terminamos\n"
          ]
        },
        {
          "output_type": "display_data",
          "data": {
            "text/plain": [
              "<Figure size 432x288 with 1 Axes>"
            ],
            "image/png": "[encoded data removed]"
          },
          "metadata": {
            "needs_background": "light"
          }
        },
        {
          "output_type": "stream",
          "name": "stdout",
          "text": [
            "Ingresar una cantidad(m) para convertirlo a pulgadas 5\n",
            "1/1 [==============================] - 0s 46ms/step\n",
            "El número ingresado en pulgadas es:  [[174.94359]]\n"
          ]
        }
      ],
      "source": [
        "#---librerias---\n",
        "import tensorflow as tf\n",
        "import numpy as np\n",
        "import matplotlib.pyplot as plt\n",
        "\n",
        "#---declaración de eventos pasados(metros a pulgadas)---\n",
        "entrada=np.array([1, 21, 18, 32, 46, 55, 97, 1001, 234, 987], dtype=float)  #---metros\n",
        "salida=np.array([39.3701, 826.772, 708.661, 1259.84, 1811.02, 2165.35, 3818.9, 39409.45, 9212.6, 38858.3], dtype=float) #---pulgadas\n",
        "\n",
        "#---topografía de la red---\n",
        "capa1= tf.keras.layers.Dense(units=1, input_shape= [1])\n",
        "\n",
        "#---creación del tipo de red---\n",
        "modelo= tf.keras.Sequential([capa1])\n",
        "\n",
        "#---asignar optimizador y métrica de pérdida---\n",
        "modelo.compile(\n",
        "    optimizer=tf.keras.optimizers.Adam(0.1),\n",
        "    loss='mean_squared_error'\n",
        ")\n",
        "\n",
        "print(\"Entrenamiento de la red neuronal\")\n",
        "#---entrenando el modelo---\n",
        "entrenamiento=modelo.fit(entrada, salida, epochs=500, verbose=False)\n",
        "\n",
        "#---fin del entrenamiento---\n",
        "print(\"Terminamos\")\n",
        "\n",
        "#---observar el comportamiento de la red---\n",
        "plt.xlabel(\"Ciclos de entrenamiento\")\n",
        "plt.ylabel(\"Errores\")\n",
        "plt.plot(entrenamiento.history[\"loss\"])\n",
        "plt.show()\n",
        "\n",
        "#---prueba de la red entrenada---\n",
        "i= input(\"Ingresar una cantidad(m) para convertirlo a pulgadas \")\n",
        "i= float(i)\n",
        "\n",
        "prediccion= modelo.predict([i])\n",
        "print(\"El número ingresado en pulgadas es: \", str(prediccion))\n",
        "#---se ingresa 5 metros y el resultado debe ser cercano a 196.85 en pulgadas"
      ]
    }
  ]
}